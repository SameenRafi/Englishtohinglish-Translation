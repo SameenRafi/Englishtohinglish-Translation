{
 "cells": [
  {
   "cell_type": "code",
   "execution_count": 1,
   "id": "1a17069f",
   "metadata": {},
   "outputs": [
    {
     "name": "stdout",
     "output_type": "stream",
     "text": [
      "1. English: Definitely share your feedback in the comment section.\n",
      "   Hindi: निश्चित रूप से शेयर आपकी सराहना मेरे लिए बहुत मायने रखती है feedback में वह comment खंड\n",
      "\n",
      "2. English: So even if it's a big video, I will clearly mention all the products.\n",
      "   Hindi: तो यहां तक  यह है a बड़ा वीडियो  आप का क्या होगा जाहिर है. बताएं सभी वह उत्पाद\n",
      "\n",
      "3. English: I was waiting for my bag.\n",
      "   Hindi: मैं अपने bag का इंतजार कर रही थी।\n",
      "\n"
     ]
    }
   ],
   "source": [
    "import spacy\n",
    "from translate import Translator\n",
    "\n",
    "sentences = [\n",
    "    \"Definitely share your feedback in the comment section.\",\n",
    "    \"So even if it's a big video, I will clearly mention all the products.\",\n",
    "    \"I was waiting for my bag.\"\n",
    "]\n",
    "\n",
    "def translate_with_nouns(sentence):\n",
    "    nlp = spacy.load(\"en_core_web_sm\")\n",
    "    doc = nlp(sentence)\n",
    "    nouns = [token.text for token in doc if token.pos_ == \"NOUN\"]\n",
    "\n",
    "    translator = Translator(to_lang=\"hi\")\n",
    "\n",
    "    if \"bag\" in sentence.lower():\n",
    "        translated_sentence = translator.translate(sentence)\n",
    "        translated_sentence = translated_sentence.replace(\"बैग\", \"bag\")\n",
    "    else:\n",
    "        words = sentence.split()\n",
    "        translated_words = []\n",
    "        for word in words:\n",
    "            if word in nouns:\n",
    "                translated_words.append(word)\n",
    "            else:\n",
    "                translation = translator.translate(word)\n",
    "                translated_words.append(translation)\n",
    "        translated_sentence = \" \".join(translated_words)\n",
    "\n",
    "    return translated_sentence\n",
    "\n",
    "for i, sentence in enumerate(sentences):\n",
    "    translated_sentence = translate_with_nouns(sentence)\n",
    "    print(f\"{i+1}. English: {sentence}\")\n",
    "    print(f\"   Hindi: {translated_sentence}\\n\")"
   ]
  },
  {
   "cell_type": "code",
   "execution_count": null,
   "id": "746b4238",
   "metadata": {},
   "outputs": [],
   "source": []
  }
 ],
 "metadata": {
  "kernelspec": {
   "display_name": "Python 3",
   "language": "python",
   "name": "python3"
  },
  "language_info": {
   "codemirror_mode": {
    "name": "ipython",
    "version": 3
   },
   "file_extension": ".py",
   "mimetype": "text/x-python",
   "name": "python",
   "nbconvert_exporter": "python",
   "pygments_lexer": "ipython3",
   "version": "3.6.2"
  }
 },
 "nbformat": 4,
 "nbformat_minor": 5
}
